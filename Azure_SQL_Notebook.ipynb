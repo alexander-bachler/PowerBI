{
    "metadata": {
        "kernelspec": {
            "name": "SQL",
            "display_name": "SQL",
            "language": "sql"
        },
        "language_info": {
            "name": "sql",
            "version": ""
        },
        "extensions": {
            "azuredatastudio": {
                "version": 1,
                "views": []
            }
        }
    },
    "nbformat_minor": 2,
    "nbformat": 4,
    "cells": [
        {
            "cell_type": "markdown",
            "source": [
                "# **Sript für die Ausführung von MBUS-Prep**\n",
                "\n",
                "Mit diesem Script werden die JSON-Files der MBus-Rohdaten aufgelöst und in einem SQL-Table abgelegt."
            ],
            "metadata": {
                "azdata_cell_guid": "f47f5a42-32c8-448b-96ef-f08ba573e4a8",
                "extensions": {
                    "azuredatastudio": {
                        "views": []
                    }
                }
            }
        },
        {
            "cell_type": "code",
            "source": [
                " /****** Object:  Table [dbo].[MBUS_Values]    Script Date: 03.03.2021 13:19:16 ******/\r\n",
                "DROP TABLE [dbo].[MBUS_Values]\r\n",
                "DROP TABLE [dbo].[MBUS_Meta]\r\n",
                "DROP TABLE [dbo].[MBUS_Data]\r\n",
                "GO\r\n",
                "\r\n",
                "/****** Object:  Table [dbo].[MBUS_Values]    Script Date: 03.03.2021 13:19:16 ******/\r\n",
                "SET ANSI_NULLS ON\r\n",
                "GO\r\n",
                "\r\n",
                "SET QUOTED_IDENTIFIER ON\r\n",
                "GO\r\n",
                "\r\n",
                "\r\n",
                "\r\n",
                "SELECT        mbusmaster + '_' + measurementSerieId AS JoinID, dateadd(S, CONVERT(bigint, effectivedate), '1970-01-01') AS datetime, value, valueAsString\r\n",
                "INTO          MBUS_Data\r\n",
                "FROM          dbo.Wärmezählerdaten CROSS APPLY OPENJSON(json) WITH (measurementSerieId varchar(5), effectiveDate varchar(10), value varchar(20), valueAsString varchar (20))\r\n",
                "\r\n",
                "SELECT        distinct (mbusmaster + '_' + measurementSerieId) AS JoinID, sourceId AS meterID, sourcePosition AS Zählerbeschr, unitString AS unit, unitTypeId AS id, deviceTypeString\r\n",
                "INTO          MBUS_Meta\r\n",
                "FROM          dbo.MdmSerie CROSS APPLY OPENJSON(json) WITH (sourceId varchar(10), unitString varchar(10), sourcePosition varchar(100), unitTypeId varchar(10), measurementSerieId varchar(5), deviceTypeString varchar(10))\r\n",
                "GO\r\n",
                "\r\n",
                "SELECT        dbo.MBUS_Data.datetime, dbo.MBUS_Meta.meterID, dbo.MBUS_Meta.id, dbo.MBUS_Meta.unit, dbo.MBUS_Data.value, dbo.MBUS_Data.valueAsString, dbo.MBUS_Meta.deviceTypeString\r\n",
                "INTO          MBUS_Values\r\n",
                "FROM          dbo.MBUS_Data \r\n",
                "LEFT JOIN     dbo.MBUS_Meta ON dbo.MBUS_Data.JoinID = dbo.MBUS_Meta.JoinID\r\n",
                "GO"
            ],
            "metadata": {
                "azdata_cell_guid": "882e1b09-fb1f-4da7-92f4-1478dc31a112",
                "tags": [
                    "hide_input"
                ],
                "extensions": {
                    "azuredatastudio": {
                        "views": []
                    }
                }
            },
            "outputs": [
                {
                    "output_type": "display_data",
                    "data": {
                        "text/html": "Commands completed successfully."
                    },
                    "metadata": {}
                },
                {
                    "output_type": "display_data",
                    "data": {
                        "text/html": "Commands completed successfully."
                    },
                    "metadata": {}
                },
                {
                    "output_type": "display_data",
                    "data": {
                        "text/html": "Commands completed successfully."
                    },
                    "metadata": {}
                },
                {
                    "output_type": "display_data",
                    "data": {
                        "text/html": "(80991038 rows affected)"
                    },
                    "metadata": {}
                },
                {
                    "output_type": "display_data",
                    "data": {
                        "text/html": "(10786 rows affected)"
                    },
                    "metadata": {}
                },
                {
                    "output_type": "display_data",
                    "data": {
                        "text/html": "(80991038 rows affected)"
                    },
                    "metadata": {}
                },
                {
                    "output_type": "display_data",
                    "data": {
                        "text/html": "Total execution time: 00:25:27.983"
                    },
                    "metadata": {}
                }
            ],
            "execution_count": 1
        },
        {
            "cell_type": "markdown",
            "source": [
                "# **Mbus-Master Kontrolle**"
            ],
            "metadata": {
                "azdata_cell_guid": "275e0d86-6ef9-4881-ab28-3fe6002c2a69"
            },
            "attachments": {}
        },
        {
            "cell_type": "code",
            "source": [
                "SELECT mbusmaster,  APPROX_COUNT_DISTINCT(meterID)\n",
                "  FROM [dbo].[MBUS_Values_neu]\n",
                "  WHERE DATEPART(YEAR, [datetime]) = DATEPART(YEAR, GETDATE()) AND\n",
                "        DATEPART(WEEK,[datetime])>(DATEPART(WEEK, GETDATE())-2)\n",
                "group by mbusmaster\n",
                " "
            ],
            "metadata": {
                "azdata_cell_guid": "aae40fc3-f759-4ba4-9e54-719bb72a4b80",
                "tags": [
                    "hide_input"
                ]
            },
            "outputs": [
                {
                    "output_type": "display_data",
                    "data": {
                        "text/html": "Warning: Null value is eliminated by an aggregate or other SET operation."
                    },
                    "metadata": {}
                },
                {
                    "output_type": "display_data",
                    "data": {
                        "text/html": "(22 rows affected)"
                    },
                    "metadata": {}
                },
                {
                    "output_type": "display_data",
                    "data": {
                        "text/html": "Total execution time: 00:01:33.875"
                    },
                    "metadata": {}
                },
                {
                    "output_type": "execute_result",
                    "metadata": {},
                    "execution_count": 3,
                    "data": {
                        "application/vnd.dataresource+json": {
                            "schema": {
                                "fields": [
                                    {
                                        "name": "mbusmaster"
                                    },
                                    {
                                        "name": "(No column name)"
                                    }
                                ]
                            },
                            "data": [
                                {
                                    "0": "NULL",
                                    "1": "0"
                                },
                                {
                                    "0": "10.123.4.41:80",
                                    "1": "32"
                                },
                                {
                                    "0": "10.21.1.41:80",
                                    "1": "128"
                                },
                                {
                                    "0": "10.24.8.41:80",
                                    "1": "72"
                                },
                                {
                                    "0": "10.26.1.41:80",
                                    "1": "66"
                                },
                                {
                                    "0": "10.33.2.41:80",
                                    "1": "55"
                                },
                                {
                                    "0": "10.33.3.41:80",
                                    "1": "9"
                                },
                                {
                                    "0": "10.33.4.41:80",
                                    "1": "77"
                                },
                                {
                                    "0": "10.39.1.31:80",
                                    "1": "110"
                                },
                                {
                                    "0": "10.39.2.41:80",
                                    "1": "68"
                                },
                                {
                                    "0": "10.44.2.41:80",
                                    "1": "125"
                                },
                                {
                                    "0": "10.82.1.60:80",
                                    "1": "81"
                                },
                                {
                                    "0": "10.82.1.61:80",
                                    "1": "72"
                                },
                                {
                                    "0": "10.82.1.62:80",
                                    "1": "89"
                                },
                                {
                                    "0": "10.82.1.63:80",
                                    "1": "67"
                                },
                                {
                                    "0": "10.95.4.114:80",
                                    "1": "6"
                                },
                                {
                                    "0": "172.22.172.32:80",
                                    "1": "33"
                                },
                                {
                                    "0": "172.22.172.36:80",
                                    "1": "211"
                                },
                                {
                                    "0": "172.22.172.36:81",
                                    "1": "145"
                                },
                                {
                                    "0": "172.22.172.36:82",
                                    "1": "205"
                                },
                                {
                                    "0": "172.22.172.36:83",
                                    "1": "139"
                                },
                                {
                                    "0": "172.22.173.8:8080",
                                    "1": "33"
                                }
                            ]
                        },
                        "text/html": [
                            "<table>",
                            "<tr><th>mbusmaster</th><th>(No column name)</th></tr>",
                            "<tr><td>NULL</td><td>0</td></tr>",
                            "<tr><td>10.123.4.41:80</td><td>32</td></tr>",
                            "<tr><td>10.21.1.41:80</td><td>128</td></tr>",
                            "<tr><td>10.24.8.41:80</td><td>72</td></tr>",
                            "<tr><td>10.26.1.41:80</td><td>66</td></tr>",
                            "<tr><td>10.33.2.41:80</td><td>55</td></tr>",
                            "<tr><td>10.33.3.41:80</td><td>9</td></tr>",
                            "<tr><td>10.33.4.41:80</td><td>77</td></tr>",
                            "<tr><td>10.39.1.31:80</td><td>110</td></tr>",
                            "<tr><td>10.39.2.41:80</td><td>68</td></tr>",
                            "<tr><td>10.44.2.41:80</td><td>125</td></tr>",
                            "<tr><td>10.82.1.60:80</td><td>81</td></tr>",
                            "<tr><td>10.82.1.61:80</td><td>72</td></tr>",
                            "<tr><td>10.82.1.62:80</td><td>89</td></tr>",
                            "<tr><td>10.82.1.63:80</td><td>67</td></tr>",
                            "<tr><td>10.95.4.114:80</td><td>6</td></tr>",
                            "<tr><td>172.22.172.32:80</td><td>33</td></tr>",
                            "<tr><td>172.22.172.36:80</td><td>211</td></tr>",
                            "<tr><td>172.22.172.36:81</td><td>145</td></tr>",
                            "<tr><td>172.22.172.36:82</td><td>205</td></tr>",
                            "<tr><td>172.22.172.36:83</td><td>139</td></tr>",
                            "<tr><td>172.22.173.8:8080</td><td>33</td></tr>",
                            "</table>"
                        ]
                    }
                }
            ],
            "execution_count": 3
        }
    ]
}